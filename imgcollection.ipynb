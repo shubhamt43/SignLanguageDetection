{
 "cells": [
  {
   "cell_type": "code",
   "execution_count": 3,
   "id": "27efe9ea-ead5-4f07-849d-d437bea189b7",
   "metadata": {},
   "outputs": [
    {
     "name": "stdout",
     "output_type": "stream",
     "text": [
      "Collecting images for You\n",
      "Collecting images for namaste\n",
      "Collecting images for J\n",
      "Collecting images for Q\n",
      "Collecting images for R\n"
     ]
    }
   ],
   "source": [
    "\n",
    "import cv2 #opencv\n",
    "import os\n",
    "import time\n",
    "import uuid\n",
    "\n",
    "IMAGES_PATH = 'C:\\\\Users\\\\shubh_o4kbkhg\\\\Desktop\\\\Miniproject\\\\Tensorflow\\\\workspace\\\\images'\n",
    "\n",
    "labels = ['You', 'namaste', 'J','Q','R']\n",
    "number_imgs =15\n",
    "\n",
    "# Create directories for each label\n",
    "for label in labels:\n",
    "    label_path = os.path.join(IMAGES_PATH, label)\n",
    "    os.makedirs(label_path, exist_ok=True)\n",
    "\n",
    "    cap = cv2.VideoCapture(0)  # Open webcam\n",
    "    print(f'Collecting images for {label}')\n",
    "    time.sleep(5)  # Delay before capturing\n",
    "\n",
    "    for imgnum in range(5):  # Replace with 'number_imgs'\n",
    "        ret, frame = cap.read()  # Read frame\n",
    "\n",
    "        if not ret:\n",
    "            print(\"Failed to capture image\")\n",
    "            continue\n",
    "\n",
    "        imagename = os.path.join(label_path, f\"{label}_{uuid.uuid4()}.jpg\")\n",
    "        cv2.imwrite(imagename, frame)  # Save image\n",
    "        cv2.imshow('frame', frame)\n",
    "\n",
    "        time.sleep(2)  # Delay between captures\n",
    "\n",
    "        if cv2.waitKey(1) & 0xFF == ord('q'):\n",
    "            break\n",
    "\n",
    "    cap.release()  # Release the camera\n",
    "\n",
    "cv2.destroyAllWindows()  # Close OpenCV windows\n"
   ]
  },
  {
   "cell_type": "code",
   "execution_count": null,
   "id": "45c553a5-60f7-4def-931c-b057e4e9b5ec",
   "metadata": {},
   "outputs": [],
   "source": []
  }
 ],
 "metadata": {
  "kernelspec": {
   "display_name": "miniproject",
   "language": "python",
   "name": "python3"
  },
  "language_info": {
   "codemirror_mode": {
    "name": "ipython",
    "version": 3
   },
   "file_extension": ".py",
   "mimetype": "text/x-python",
   "name": "python",
   "nbconvert_exporter": "python",
   "pygments_lexer": "ipython3",
   "version": "3.13.2"
  }
 },
 "nbformat": 4,
 "nbformat_minor": 5
}
